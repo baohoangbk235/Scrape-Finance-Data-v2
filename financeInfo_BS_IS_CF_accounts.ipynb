{
 "cells": [
  {
   "cell_type": "markdown",
   "metadata": {},
   "source": [
    "# This notebook attempts to extract all possible accounts from three *annual* financial reports: the balance sheet, income statement and cash flow statement.\n",
    "\n",
    "### Why this work?\n",
    "The output of this work will be used for a table mapping a Vietstock account to a hard-coded FAD account, which will be stored in our database.\n",
    "\n",
    "### How is a Vietstock account defined?\n",
    "We define a Vietstock account as a unique combination of its ID (denoted by the field `ReportNormID`), its English name (denoted by the field `NameEn`), and its Vietnamese name (denoted by the field `Name`)."
   ]
  },
  {
   "cell_type": "code",
   "execution_count": 1,
   "metadata": {},
   "outputs": [],
   "source": [
    "import pandas as pd\n",
    "import json\n",
    "import glob\n",
    "import re"
   ]
  },
  {
   "cell_type": "markdown",
   "metadata": {},
   "source": [
    "### Here we define a function to simplify account names"
   ]
  },
  {
   "cell_type": "code",
   "execution_count": 2,
   "metadata": {},
   "outputs": [],
   "source": [
    "def simplify_text(s):\n",
    "    s1 = s.split(\".\")[-1]\n",
    "    s1 = re.sub(r\"\\W+\", \" \", s1)\n",
    "    s1 = \" \".join(s1.split())\n",
    "    s1 = s1.lower()\n",
    "    return s1"
   ]
  },
  {
   "cell_type": "markdown",
   "metadata": {},
   "source": [
    "### Define all necessary dictionaries"
   ]
  },
  {
   "cell_type": "code",
   "execution_count": 3,
   "metadata": {},
   "outputs": [],
   "source": [
    "report_types = {\"CDKT\":{},\n",
    "                \"KQKD\":{},\n",
    "                \"LC\":{}}\n",
    "lookup_dict_all = {\"CDKT\":{},\n",
    "                    \"KQKD\":{},\n",
    "                    \"LC\": {}}"
   ]
  },
  {
   "cell_type": "markdown",
   "metadata": {},
   "source": [
    "### Process each report type sequentially\n",
    "Before beginning the code, it's helpful to see what a financeInfo report file looks like:\n",
    "\n",
    "```\n",
    "[\n",
    "    [\n",
    "        {'year': 0000},\n",
    "        {'year': 0001},\n",
    "        ...\n",
    "    ],\n",
    "    {    \n",
    "        'CashFlow Indirect': [\n",
    "            {\n",
    "                'reportnormID': 1234\n",
    "            },\n",
    "            {\n",
    "                'reportnormID': 1234\n",
    "            }\n",
    "        ],\n",
    "        'CashFlow Indirect': [\n",
    "            {\n",
    "                'reportnormID': 5678\n",
    "            },\n",
    "            {\n",
    "                'reportnormID': 9000\n",
    "            }\n",
    "        ]\n",
    "    },\n",
    "    ...\n",
    "]\n",
    "```"
   ]
  },
  {
   "cell_type": "code",
   "execution_count": 4,
   "metadata": {
    "scrolled": true
   },
   "outputs": [],
   "source": [
    "for report_type, report_all_accounts in report_types.items():    \n",
    "    for file in glob.glob(f'functions/schemaData/financeInfo/*{report_type}_Annual*.json'):\n",
    "        with open(file, 'r') as jsonfile:\n",
    "            try:\n",
    "                j = json.load(jsonfile)\n",
    "                for report_fullname, report_content in j[1].items():\n",
    "                    if report_fullname not in lookup_dict_all[report_type].keys():\n",
    "                        lookup_dict_all[report_type][report_fullname] = {}\n",
    "                    for content in report_content:\n",
    "                        acc_id = content['ReportNormID']\n",
    "                        if acc_id not in lookup_dict_all[report_type][report_fullname].keys():\n",
    "                            lookup_dict_all[report_type][report_fullname][acc_id] = content\n",
    "            except Exception as e:\n",
    "                print(f'EXCEPTION: {e}')\n",
    "    \n",
    "    for report_fullname, report_content in lookup_dict_all[report_type].items():\n",
    "        if report_fullname not in report_all_accounts.keys():\n",
    "            report_all_accounts[report_fullname] = []\n",
    "        for acc_id, content in report_content.items():\n",
    "            acc_n = simplify_text(content['NameEn'])\n",
    "            acc_vi_n = simplify_text(content['Name'])\n",
    "            parent_n = simplify_text(lookup_dict_all[report_type][report_fullname][content['ParentReportNormID']]['NameEn'])\n",
    "            parent_vi_n = simplify_text(lookup_dict_all[report_type][report_fullname][content['ParentReportNormID']]['Name'])\n",
    "            entry = (acc_n, parent_n, acc_vi_n, parent_vi_n)\n",
    "            if entry not in report_all_accounts[report_fullname]:\n",
    "                report_all_accounts[report_fullname].append(entry)\n",
    "    \n",
    "        with open(f'functions/schema/{report_type}_{report_fullname}_all_accounts.json', 'w') as writefile:\n",
    "            json.dump(report_all_accounts, writefile, ensure_ascii=False, indent=4)\n",
    "            \n",
    "        d = pd.DataFrame(report_all_accounts[report_fullname])\n",
    "        d.to_excel(f'functions/schema/{report_type}_{report_fullname}_all_accounts.xlsx')"
   ]
  },
  {
   "cell_type": "code",
   "execution_count": null,
   "metadata": {},
   "outputs": [],
   "source": [
    "### Quick view of our results"
   ]
  },
  {
   "cell_type": "code",
   "execution_count": 1,
   "metadata": {
    "scrolled": true
   },
   "outputs": [
    {
     "output_type": "error",
     "ename": "NameError",
     "evalue": "name 'report_types' is not defined",
     "traceback": [
      "\u001b[0;31m---------------------------------------------------------------------------\u001b[0m",
      "\u001b[0;31mNameError\u001b[0m                                 Traceback (most recent call last)",
      "\u001b[0;32m<ipython-input-1-b41279f1a718>\u001b[0m in \u001b[0;36m<module>\u001b[0;34m\u001b[0m\n\u001b[0;32m----> 1\u001b[0;31m \u001b[0mprint\u001b[0m\u001b[0;34m(\u001b[0m\u001b[0mreport_types\u001b[0m\u001b[0;34m[\u001b[0m\u001b[0;34m'CDKT'\u001b[0m\u001b[0;34m]\u001b[0m\u001b[0;34m)\u001b[0m\u001b[0;34m\u001b[0m\u001b[0;34m\u001b[0m\u001b[0m\n\u001b[0m\u001b[1;32m      2\u001b[0m \u001b[0mprint\u001b[0m\u001b[0;34m(\u001b[0m\u001b[0mreport_types\u001b[0m\u001b[0;34m[\u001b[0m\u001b[0;34m'KQKD'\u001b[0m\u001b[0;34m]\u001b[0m\u001b[0;34m)\u001b[0m\u001b[0;34m\u001b[0m\u001b[0;34m\u001b[0m\u001b[0m\n",
      "\u001b[0;31mNameError\u001b[0m: name 'report_types' is not defined"
     ]
    }
   ],
   "source": [
    "print(report_types['CDKT'])\n",
    "print(report_types['KQKD'])"
   ]
  },
  {
   "cell_type": "code",
   "execution_count": 6,
   "metadata": {
    "scrolled": true
   },
   "outputs": [
    {
     "name": "stdout",
     "output_type": "stream",
     "text": [
      "=== WARNING: one entry has multiple account IDs ===\n",
      "ENTRY \";operating expenses;;cộng chi phí hoạt động 21 33\", BIZ TYPE;INDUSTRY \"Security Company;Finance and Insurance\", REPORT \"KQKD-Income Statement\" \n",
      "\n",
      "=== WARNING: one entry has multiple account IDs ===\n",
      "ENTRY \";add non cash expenses;;tăng các chi phí phi tiền tệ\", BIZ TYPE;INDUSTRY \"Security Company;Finance and Insurance\", REPORT \"LC-CashFlow Indirect\" \n",
      "\n",
      "=== WARNING: one entry has multiple account IDs ===\n",
      "ENTRY \"cash at bank for securities company activities;add non cash expenses;tiền gửi ngân hàng cho hoạt động ctck;tăng các chi phí phi tiền tệ\", BIZ TYPE;INDUSTRY \"Security Company;Finance and Insurance\", REPORT \"LC-CashFlow Indirect\" \n",
      "\n",
      "=== WARNING: one entry has multiple account IDs ===\n",
      "ENTRY \"cash equivalents;add non cash expenses;các khoản tương đương tiền;tăng các chi phí phi tiền tệ\", BIZ TYPE;INDUSTRY \"Security Company;Finance and Insurance\", REPORT \"LC-CashFlow Indirect\" \n",
      "\n",
      "=== WARNING: one entry has multiple account IDs ===\n",
      "ENTRY \";;;phần lưu chuyển tiền tệ hoạt động môi giới ủy thác của khách hàng\", BIZ TYPE;INDUSTRY \"Security Company;Finance and Insurance\", REPORT \"LC-CashFlow Indirect\" \n",
      "\n",
      "=== WARNING: one entry has multiple account IDs ===\n",
      "ENTRY \";;tiền gửi của nhà đầu tư về giao dịch chứng khoán theo phương thức ctck quản lý;phần lưu chuyển tiền tệ hoạt động môi giới ủy thác của khách hàng\", BIZ TYPE;INDUSTRY \"Security Company;Finance and Insurance\", REPORT \"LC-CashFlow Indirect\" \n",
      "\n",
      "=== WARNING: one entry has multiple account IDs ===\n",
      "ENTRY \";;trong đó có kỳ hạn;phần lưu chuyển tiền tệ hoạt động môi giới ủy thác của khách hàng\", BIZ TYPE;INDUSTRY \"Security Company;Finance and Insurance\", REPORT \"LC-CashFlow Indirect\" \n",
      "\n",
      "=== WARNING: one entry has multiple account IDs ===\n",
      "ENTRY \";;tiền gửi của nhà đầu tư về giao dịch chứng khoán theo phương thức ngân hàng thương mại quản lý;phần lưu chuyển tiền tệ hoạt động môi giới ủy thác của khách hàng\", BIZ TYPE;INDUSTRY \"Security Company;Finance and Insurance\", REPORT \"LC-CashFlow Indirect\" \n",
      "\n",
      "=== WARNING: one entry has multiple account IDs ===\n",
      "ENTRY \";;tiền gửi tổng hợp giao dịch chứng khoán cho khách hàng;phần lưu chuyển tiền tệ hoạt động môi giới ủy thác của khách hàng\", BIZ TYPE;INDUSTRY \"Security Company;Finance and Insurance\", REPORT \"LC-CashFlow Indirect\" \n",
      "\n",
      "=== WARNING: one entry has multiple account IDs ===\n",
      "ENTRY \";;tiền gửi bù trừ và thanh toán giao dịch chứng khoán;phần lưu chuyển tiền tệ hoạt động môi giới ủy thác của khách hàng\", BIZ TYPE;INDUSTRY \"Security Company;Finance and Insurance\", REPORT \"LC-CashFlow Indirect\" \n",
      "\n",
      "=== WARNING: one entry has multiple account IDs ===\n",
      "ENTRY \";;tiền gửi của tổ chức phát hành;phần lưu chuyển tiền tệ hoạt động môi giới ủy thác của khách hàng\", BIZ TYPE;INDUSTRY \"Security Company;Finance and Insurance\", REPORT \"LC-CashFlow Indirect\" \n",
      "\n",
      "=== WARNING: one entry has multiple account IDs ===\n",
      "ENTRY \"cash equivalents;;các khoản tương đương tiền;phần lưu chuyển tiền tệ hoạt động môi giới ủy thác của khách hàng\", BIZ TYPE;INDUSTRY \"Security Company;Finance and Insurance\", REPORT \"LC-CashFlow Indirect\" \n",
      "\n",
      "=== WARNING: one entry has multiple account IDs ===\n",
      "ENTRY \"exchange difference due to re valuation of ending balances;;ảnh hưởng của thay đổi tỷ giá hối đoái quy đổi ngoại tệ;phần lưu chuyển tiền tệ hoạt động môi giới ủy thác của khách hàng\", BIZ TYPE;INDUSTRY \"Security Company;Finance and Insurance\", REPORT \"LC-CashFlow Indirect\" \n",
      "\n",
      "=== WARNING: one entry has multiple account IDs ===\n",
      "ENTRY \";;;tăng giảm tiền thuần trong kỳ\", BIZ TYPE;INDUSTRY \"Security Company;Finance and Insurance\", REPORT \"LC-CashFlow Direct\" \n",
      "\n",
      "=== WARNING: one entry has multiple account IDs ===\n",
      "ENTRY \";;trong đó có kỳ hạn;tiền và các khoản tương đương tiền đầu kỳ của khách hàng\", BIZ TYPE;INDUSTRY \"Security Company;Finance and Insurance\", REPORT \"LC-CashFlow Direct\" \n",
      "\n",
      "=== WARNING: one entry has multiple account IDs ===\n",
      "ENTRY \";;trong đó có kỳ hạn;tiền và các khoản tương đương tiền cuối kỳ của khách hàng 40 20 30\", BIZ TYPE;INDUSTRY \"Security Company;Finance and Insurance\", REPORT \"LC-CashFlow Direct\" \n",
      "\n"
     ]
    }
   ],
   "source": [
    "report_types_expressdetails = {\"CDKT\":{},\n",
    "                                \"KQKD\":{},\n",
    "                                \"LC\":{}}\n",
    "lookup_dict_all_expressdetails = {\"CDKT\":{},\n",
    "                                    \"KQKD\":{},\n",
    "                                    \"LC\": {}}\n",
    "\n",
    "with open('functions/schema/bizType_ind_list.json', 'r') as jsonfile:\n",
    "    biztypes_inds = sorted(json.load(jsonfile))\n",
    "    jsonfile.close()\n",
    "\n",
    "for report_type, report_all_accounts in report_types_expressdetails.items():      \n",
    "    for biztype_ind in biztypes_inds:\n",
    "        biztype, ind = biztype_ind.split(\";\")[0], biztype_ind.split(\";\")[1]\n",
    "        if biztype_ind not in lookup_dict_all_expressdetails[report_type].keys():\n",
    "            lookup_dict_all_expressdetails[report_type][biztype_ind] = {}\n",
    "        if biztype_ind not in report_types_expressdetails[report_type].keys():\n",
    "            report_types_expressdetails[report_type][biztype_ind] = {}\n",
    "        for file in glob.glob(f'functions/schemaData/financeInfo/{biztype}_{ind}*{report_type}_Annual*.json'):\n",
    "            with open(file, 'r') as jsonfile:\n",
    "                try:\n",
    "                    j = json.load(jsonfile)\n",
    "                    for report_fullname, report_content in j[1].items():\n",
    "                        if report_fullname not in lookup_dict_all_expressdetails[report_type][biztype_ind].keys():\n",
    "                            lookup_dict_all_expressdetails[report_type][biztype_ind][report_fullname] = {}\n",
    "                        for content in report_content:\n",
    "                            acc_id = content['ReportNormID']\n",
    "                            if acc_id not in lookup_dict_all_expressdetails[report_type][biztype_ind][report_fullname].keys():\n",
    "                                lookup_dict_all_expressdetails[report_type][biztype_ind][report_fullname][acc_id] = content\n",
    "                            \n",
    "                            ### Test if any of the three elements of the entry are \"\"\n",
    "#                             acc_n = simplify_text(content['NameEn'])\n",
    "#                             acc_vi_n = simplify_text(content['Name'])\n",
    "#                             acc_parent_id = content['ParentReportNormID']\n",
    "#                             if (acc_n == \"\" and acc_vi_n == \"\") or (acc_n == \"\" and acc_parent_id == \"\") or (acc_vi_n == \"\" and acc_parent_id == \"\"):\n",
    "#                                 print(file)\n",
    "#                                 print(f'{acc_n};{acc_vi_n};{acc_parent_id}')\n",
    "                                \n",
    "                except Exception as e:\n",
    "                    print(f'EXCEPTION: {e}')\n",
    "                    \n",
    "        for report_fullname, report_content in lookup_dict_all_expressdetails[report_type][biztype_ind].items():\n",
    "            if report_fullname not in report_all_accounts[biztype_ind].keys():\n",
    "                report_all_accounts[biztype_ind][report_fullname] = {}\n",
    "            for acc_id, content in report_content.items():\n",
    "                acc_n = simplify_text(content['NameEn'])\n",
    "                acc_vi_n = simplify_text(content['Name'])\n",
    "                parent_n = simplify_text(lookup_dict_all_expressdetails[report_type][biztype_ind][report_fullname][content['ParentReportNormID']]['NameEn'])\n",
    "                parent_vi_n = simplify_text(lookup_dict_all_expressdetails[report_type][biztype_ind][report_fullname][content['ParentReportNormID']]['Name'])\n",
    "                \n",
    "                entry = f'{acc_n};{parent_n};{acc_vi_n};{parent_vi_n}'\n",
    "                if entry not in report_all_accounts[biztype_ind][report_fullname].keys():\n",
    "                    report_all_accounts[biztype_ind][report_fullname][entry] = [acc_id]\n",
    "                else:\n",
    "                    report_all_accounts[biztype_ind][report_fullname][entry].append(acc_id)\n",
    "                    \n",
    "            for entry, ids in report_all_accounts[biztype_ind][report_fullname].items():\n",
    "                if len(ids) > 1:\n",
    "                    print(\"=== WARNING: one entry has multiple account IDs ===\")\n",
    "                    print(f'ENTRY \"{entry}\", BIZ TYPE;INDUSTRY \"{biztype_ind}\", REPORT \"{report_type}-{report_fullname}\" \\n')\n",
    "\n",
    "            with open(f'functions/schema/{biztype_ind}_{report_type}_{report_fullname}_all_accounts.json', 'w') as writefile:\n",
    "                json.dump(report_all_accounts[biztype_ind], writefile, ensure_ascii=False, indent=4)"
   ]
  },
  {
   "cell_type": "markdown",
   "metadata": {},
   "source": [
    "## Explanation of above warnings:\n",
    "\n",
    "`\";operating expenses;;cộng chi phí hoạt động 21 33\"`: empty account En name and empty account Vi name - this is a dummy account used as a padding/empty space bar for the viewing of that financial document\n",
    "\n",
    "**Solution: ignore this case when processing tickers to database**\n",
    "\n",
    "\n",
    "`\"cash at bank for securities company activities;add non cash expenses;tiền gửi ngân hàng cho hoạt động ctck;tăng các chi phí phi tiền tệ\"`: all accounts are not empty - the same account with the same nature has different IDs\n",
    "\n",
    "**Solution: do not ignore this case**\n",
    "\n",
    "\n",
    "`\";;;phần lưu chuyển tiền tệ hoạt động môi giới ủy thác của khách hàng\"`: empty account En name, empty account Vi name, empty parent account En name - this is a dummy account used as a padding/empty space bar for the viewing of that financial document\n",
    "\n",
    "**Solution: ignore this case when processing tickers to database**\n",
    "\n",
    "\n",
    "`\";;tiền gửi của nhà đầu tư về giao dịch chứng khoán theo phương thức ctck quản lý;phần lưu chuyển tiền tệ hoạt động môi giới ủy thác của khách hàng\"`: empty account En name and empty account parent En name - the same account with the same nature has different IDs\n",
    "\n",
    "**Solution: do not ignore this case**\n",
    "\n",
    "\n",
    "`\"cash equivalents;;các khoản tương đương tiền;phần lưu chuyển tiền tệ hoạt động môi giới ủy thác của khách hàng\"`: empty parent account En name\n",
    "\n",
    "**Solution: do not ignore this case**\n",
    "\n",
    "\n",
    "### In general, it seems that we can ignore the entries which have empty components at indices `[0]` and `[2]`, which stores the values of `acc_n` and `acc_vi_n`, respectively."
   ]
  }
 ],
 "metadata": {
  "kernelspec": {
   "display_name": "Python 3",
   "language": "python",
   "name": "python3"
  },
  "language_info": {
   "codemirror_mode": {
    "name": "ipython",
    "version": 3
   },
   "file_extension": ".py",
   "mimetype": "text/x-python",
   "name": "python",
   "nbconvert_exporter": "python",
   "pygments_lexer": "ipython3",
   "version": "3.7.7-final"
  }
 },
 "nbformat": 4,
 "nbformat_minor": 4
}