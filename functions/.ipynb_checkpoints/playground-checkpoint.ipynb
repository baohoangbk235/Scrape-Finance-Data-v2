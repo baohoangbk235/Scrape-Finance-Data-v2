{
 "cells": [
  {
   "cell_type": "code",
   "execution_count": 13,
   "metadata": {},
   "outputs": [],
   "source": [
    "import pandas as pd\n",
    "import json\n",
    "import glob"
   ]
  },
  {
   "cell_type": "code",
   "execution_count": 41,
   "metadata": {},
   "outputs": [],
   "source": [
    "# bs_all_accs = set()\n",
    "report_types = {\"BCTT\": set(),\n",
    "                \"CTKH\": set(),\n",
    "                \"CDKT\": set(),\n",
    "                \"KQKD\": set(),\n",
    "                \"LC\": set(),\n",
    "                \"CSTC\": set()}"
   ]
  },
  {
   "cell_type": "code",
   "execution_count": 42,
   "metadata": {
    "scrolled": true
   },
   "outputs": [],
   "source": [
    "for report_type, accs in report_types.items():\n",
    "    for file in glob.glob(f'localData/financeInfo/*{report_type}_Annual*.json'):\n",
    "        with open(file, 'r') as jsonfile:\n",
    "            j = json.load(jsonfile)\n",
    "            for acc in j[1][j[1].keys()[0]]:\n",
    "                n_strip = acc['NameEn'].strip()\n",
    "                n_lower = n_strip.lower()\n",
    "                accs.add(n_lower)\n",
    "\n",
    "    with open(\"schema/bs_all_accounts.txt\", 'w') as textfile:\n",
    "        for e in sorted(list(bs_all_accs)):\n",
    "            textfile.write(e+\"\\n\")"
   ]
  },
  {
   "cell_type": "code",
   "execution_count": 51,
   "metadata": {
    "scrolled": false
   },
   "outputs": [],
   "source": []
  }
 ],
 "metadata": {
  "kernelspec": {
   "display_name": "Python 3",
   "language": "python",
   "name": "python3"
  },
  "language_info": {
   "codemirror_mode": {
    "name": "ipython",
    "version": 3
   },
   "file_extension": ".py",
   "mimetype": "text/x-python",
   "name": "python",
   "nbconvert_exporter": "python",
   "pygments_lexer": "ipython3",
   "version": "3.7.7"
  }
 },
 "nbformat": 4,
 "nbformat_minor": 4
}
