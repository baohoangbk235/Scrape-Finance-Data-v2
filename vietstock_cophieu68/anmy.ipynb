{
 "cells": [
  {
   "cell_type": "code",
   "execution_count": 12,
   "metadata": {},
   "outputs": [],
   "source": [
    "from bs4 import BeautifulSoup\n",
    "import requests\n",
    "import csv\n",
    "import pandas as pd\n",
    "import itertools\n",
    "import glob, os\n",
    "import numpy as np"
   ]
  },
  {
   "cell_type": "code",
   "execution_count": 2,
   "metadata": {},
   "outputs": [],
   "source": [
    "# time_list = []\n",
    "# code_list = []\n",
    "# with open('anmydata.csv') as csvfile:\n",
    "#     readCSV = csv.reader(csvfile, delimiter=',')\n",
    "#     next(readCSV, None)\n",
    "#     for row in readCSV:\n",
    "#         time_list.append(row[2])  \n",
    "#         code_list.append(row[3])"
   ]
  },
  {
   "cell_type": "code",
   "execution_count": 3,
   "metadata": {},
   "outputs": [
    {
     "name": "stdout",
     "output_type": "stream",
     "text": [
      "['Q1/2017', 'Q1/2015', 'Q1/2016', 'Q2/2017', 'Q2/2016', 'Q4/2016', 'Q2/2015', 'Q3/2017', 'Q4/2015', 'Q3/2015', 'Q3/2016', 'Q4/2017']\n",
      "['ACB', 'BID', 'STB', 'CTG', 'VCB', 'NVB', 'EIB', 'SHB', 'MBB', 'HDB']\n"
     ]
    }
   ],
   "source": [
    "# time_list =  list(set(time_list))\n",
    "# code_list =  list(set(code_list))\n",
    "# print(time_list)\n",
    "# print(code_list)"
   ]
  },
  {
   "cell_type": "code",
   "execution_count": null,
   "metadata": {},
   "outputs": [],
   "source": [
    "# url1 = \"http://finance.vietstock.vn/Controls/Report/Data/GetReport.ashx\" #net sale, pe, pb\n",
    "# url2 = \"http://finance.vietstock.vn/Controls/TradingResult/Matching_Hose_Result.aspx\" # adjusted closing price\n",
    "\n",
    "# params1 = {\n",
    "#             \"rptType\":\"BCTT\",\n",
    "#            \"scode\":\"BID\",\n",
    "#            \"bizType\":\"3\",\n",
    "#            \"rptUnit\":\"1000000\",\n",
    "#            \"rptTermTypeID\":\"2\",\n",
    "#            \"page\":\"1\"\n",
    "#         }\n",
    "\n",
    "# payload2 = \"------WebKitFormBoundary7MA4YWxkTrZu0gW\\r\\nContent-Disposition: form-data; name=\\\"scode\\\"\\r\\n\\r\\nBID\\r\\n------WebKitFormBoundary7MA4YWxkTrZu0gW\\r\\nContent-Disposition: form-data; name=\\\"lcol\\\"\\r\\n\\r\\nBQB,\\r\\n------WebKitFormBoundary7MA4YWxkTrZu0gW\\r\\nContent-Disposition: form-data; name=\\\"sort\\\"\\r\\n\\r\\nTime\\r\\n------WebKitFormBoundary7MA4YWxkTrZu0gW\\r\\nContent-Disposition: form-data; name=\\\"dir\\\"\\r\\n\\r\\ndesc\\r\\n------WebKitFormBoundary7MA4YWxkTrZu0gW\\r\\nContent-Disposition: form-data; name=\\\"page\\\"\\r\\n\\r\\n1\\r\\n------WebKitFormBoundary7MA4YWxkTrZu0gW\\r\\nContent-Disposition: form-data; name=\\\"psize\\\"\\r\\n\\r\\n10\\r\\n------WebKitFormBoundary7MA4YWxkTrZu0gW\\r\\nContent-Disposition: form-data; name=\\\"fdate\\\"\\r\\n\\r\\n01/01/15\\r\\n------WebKitFormBoundary7MA4YWxkTrZu0gW\\r\\nContent-Disposition: form-data; name=\\\"tdate\\\"\\r\\n\\r\\n31/12/17\\r\\n------WebKitFormBoundary7MA4YWxkTrZu0gW\\r\\nContent-Disposition: form-data; name=\\\"exp\\\"\\r\\n\\r\\ndefault\\r\\n------WebKitFormBoundary7MA4YWxkTrZu0gW--\"\n",
    "# headers = {\n",
    "#     'content-type': \"multipart/form-data; boundary=----WebKitFormBoundary7MA4YWxkTrZu0gW\",\n",
    "#     }\n",
    "\n",
    "# result1 = requests.request(\"GET\", url1 , params=params1)\n",
    "# result2 = requests.request(\"POST\", url2, data=payload2, headers=headers)\n",
    "\n",
    "# soup1 = BeautifulSoup(result1.content, \"html5lib\")\n",
    "# soup2 = BeautifulSoup(result2.content, \"html5lib\")"
   ]
  },
  {
   "cell_type": "code",
   "execution_count": null,
   "metadata": {},
   "outputs": [],
   "source": [
    "# header_list1 = []\n",
    "# profit_before_tax = [] # Tổng lợi nhuận trước thuế - net value\n",
    "# pe_list = []\n",
    "# pb_list = []\n",
    "# header_list2 = []\n",
    "# roea_list = []\n",
    "# roaa_list = []\n",
    "# eps_list = []\n",
    "# bvps_list = []\n",
    "# row = []\n",
    "\n",
    "# for header_data in soup1.find(\"tr\", \"BR_rowHeader\").find_all(\"td\", \"BR_colHeader_Time\"):\n",
    "#     header_list1.append(header_data.get_text())\n",
    "\n",
    "# for data_row in itertools.islice(soup1.find(\"tr\", {\"id\": \"4377\"}), 2, None):\n",
    "#     profit_before_tax.append(data_row.get_text())\n",
    "\n",
    "# for data_row in itertools.islice(soup1.find(\"tr\", {\"id\": \"55\"}), 3, None):\n",
    "#     pe_list.append(data_row.get_text())\n",
    "\n",
    "# for data_row in itertools.islice(soup1.find(\"tr\", {\"id\": \"57\"}), 3, None):\n",
    "#     pb_list.append(data_row.get_text())\n",
    "\n",
    "# for data_row in itertools.islice(soup1.find(\"tr\", {\"id\": \"45\"}), 3, None):\n",
    "#     roea_list.append(data_row.get_text()) \n",
    "\n",
    "# for data_row in itertools.islice(soup1.find(\"tr\", {\"id\": \"47\"}), 3, None):\n",
    "#     roaa_list.append(data_row.get_text())\n",
    "\n",
    "# for data_row in itertools.islice(soup1.find(\"tr\", {\"id\": \"53\"}), 3, None):\n",
    "#     eps_list.append(data_row.get_text())\n",
    "\n",
    "# for data_row in itertools.islice(soup1.find(\"tr\", {\"id\": \"54\"}), 3, None):\n",
    "#     bvps_list.append(data_row.get_text())\n",
    "\n",
    "# # [-4:]\n",
    "# row.append(header_list1)\n",
    "# row.append(profit_before_tax)\n",
    "# row.append(pe_list)\n",
    "# row.append(pb_list)\n",
    "# row.append(roea_list)\n",
    "# row.append(roaa_list)\n",
    "# row.append(eps_list)\n",
    "# row.append(bvps_list)\n",
    "# print(row)\n",
    "# # print('header', header_list1)\n",
    "# # print('profit before tax',profit_before_tax)\n",
    "# # print('p/e', pe_list)\n",
    "# # print('p/b', pb_list)\n",
    "# # print('ROEA', roea_list)\n",
    "# # print('ROAA', roaa_list)\n",
    "# # print('EPS', eps_list)"
   ]
  },
  {
   "cell_type": "code",
   "execution_count": 40,
   "metadata": {},
   "outputs": [],
   "source": [
    "def write_csv(name, data, basePath = './beta/'):\n",
    "    with open(basePath + name + \".csv\", \"w\", newline='', encoding='utf-8') as csv_file:\n",
    "        writer = csv.writer(csv_file, delimiter=',')\n",
    "        for line in data:\n",
    "            writer.writerow(line)\n",
    "            \n",
    "# with open(\"testing.csv\", \"w\", newline='', encoding='utf-8') as csv_file:\n",
    "#     writer = csv.writer(csv_file, delimiter=',')\n",
    "#     for line in row:\n",
    "#         writer.writerow(line)"
   ]
  },
  {
   "cell_type": "code",
   "execution_count": null,
   "metadata": {},
   "outputs": [],
   "source": [
    "# adjusted_closing_price = []\n",
    "\n",
    "# header_BQ_ban = soup2.find(\"th\", {\"class\", \"gridhead2\"})\n",
    "# print(header_BQ_ban)\n",
    "# for data_row in soup2.find_all(\"td\", {\"class\", \"gridbody3\"}):\n",
    "#     adjusted_closing_price.append(data_row.get_text())     \n",
    "# print(adjusted_closing_price)"
   ]
  },
  {
   "cell_type": "code",
   "execution_count": 26,
   "metadata": {},
   "outputs": [],
   "source": [
    "# url1 = \"http://finance.vietstock.vn/Controls/Report/Data/GetReport.ashx\" #net sale, pe, pb\n",
    "# page_to_load = [1,2,3]\n",
    "# headers = {\n",
    "#     'Cache-Control': \"no-cache\",\n",
    "#     'Cookie':'ASP.NET_SessionId=ziqi35hlnoh31d2q1aeio03v; _ga=GA1.2.387510741.1522407806; _gid=GA1.2.509710999.1523159571; finance_viewedstock=BID,; finance_lang=en-US'\n",
    "#     }"
   ]
  },
  {
   "cell_type": "code",
   "execution_count": 25,
   "metadata": {},
   "outputs": [],
   "source": [
    "# url_beta = 'http://finance.vietstock.vn/Controls/Report/Data/GetReport.ashx'\n",
    "# params_new = {\"rptType\":\"CSTC\",\n",
    "#               \"scode\":\"EIB\",\n",
    "#               \"bizType\":\"3\",\n",
    "#               \"rptUnit\":\"1000000\",\n",
    "#               \"rptTermTypeID\":\"2\",\n",
    "#               \"page\":\"2\"}\n",
    "# headers = {\n",
    "#     'User-Agent': \"Mozilla/5.0 (Macintosh; Intel Mac OS X 10_13_4) AppleWebKit/537.36 (KHTML, like Gecko) Chrome/64.0.3282.167 Safari/537.36\",\n",
    "#     'Cookie': \"ASP.NET_SessionId=lox5n3s5uvxrwueagcrvpqit; _ga=GA1.2.1483161131.1526480318; finance_lang=vi-VN; finance_viewedstock=EIB,; _gid=GA1.2.567828356.1526914751; _gat=1\",\n",
    "#     }"
   ]
  },
  {
   "cell_type": "code",
   "execution_count": 18,
   "metadata": {},
   "outputs": [],
   "source": [
    "# response = requests.request(\"GET\", url_beta, headers=headers , params=params_new)"
   ]
  },
  {
   "cell_type": "code",
   "execution_count": 19,
   "metadata": {},
   "outputs": [],
   "source": [
    "# soup_data = BeautifulSoup(response.content, \"html5lib\")"
   ]
  },
  {
   "cell_type": "code",
   "execution_count": 20,
   "metadata": {},
   "outputs": [],
   "source": [
    "# soup_data.find(\"tr\", \"BR_rowHeader\").find_all(\"td\", \"BR_colHeader_Time\")"
   ]
  },
  {
   "cell_type": "code",
   "execution_count": 17,
   "metadata": {},
   "outputs": [],
   "source": [
    "# soup_data.find_all(\"span\", \"rpt_chart\")[5].get_text().split(\",\")"
   ]
  },
  {
   "cell_type": "code",
   "execution_count": 38,
   "metadata": {},
   "outputs": [],
   "source": [
    "def beta_data_loader(url, params_haha):\n",
    "    response = requests.request(\"GET\", url, headers=headers , params=params_haha)\n",
    "    soup_data = BeautifulSoup(response.content, \"html5lib\")\n",
    "    \n",
    "    for header_data in soup_data.find(\"tr\", \"BR_rowHeader\").find_all(\"td\", \"BR_colHeader_Time\"):\n",
    "        header_list1.append(header_data.get_text())\n",
    "\n",
    "    for data_row in soup_data.find_all(\"span\", \"rpt_chart\")[5].get_text().split(\",\"):\n",
    "        beta.append(data_row)"
   ]
  },
  {
   "cell_type": "code",
   "execution_count": 27,
   "metadata": {},
   "outputs": [],
   "source": [
    "# def common_data_loader(params_haha):\n",
    "#     response = requests.request(\"GET\", url1, headers=headers , params=params_haha)\n",
    "#     soup_data = BeautifulSoup(response.content, \"html5lib\")\n",
    "    \n",
    "#     for header_data in soup_data.find(\"tr\", \"BR_rowHeader\").find_all(\"td\", \"BR_colHeader_Time\"):\n",
    "#         header_list1.append(header_data.get_text())\n",
    "\n",
    "#     for data_row in itertools.islice(soup_data.find(\"tr\", {\"id\": \"4377\"}), 2, None):\n",
    "#         profit_before_tax.append(data_row.get_text())\n",
    "\n",
    "#     for data_row in itertools.islice(soup_data.find(\"tr\", {\"id\": \"55\"}), 3, None):\n",
    "#         pe_list.append(data_row.get_text())\n",
    "\n",
    "#     for data_row in itertools.islice(soup_data.find(\"tr\", {\"id\": \"57\"}), 3, None):\n",
    "#         pb_list.append(data_row.get_text())\n",
    "\n",
    "#     for data_row in itertools.islice(soup_data.find(\"tr\", {\"id\": \"45\"}), 3, None):\n",
    "#         roea_list.append(data_row.get_text()) \n",
    "\n",
    "#     for data_row in itertools.islice(soup_data.find(\"tr\", {\"id\": \"47\"}), 3, None):\n",
    "#         roaa_list.append(data_row.get_text())\n",
    "\n",
    "#     for data_row in itertools.islice(soup_data.find(\"tr\", {\"id\": \"53\"}), 3, None):\n",
    "#         eps_list.append(data_row.get_text())\n",
    "        \n",
    "#     for data_row in itertools.islice(soup_data.find(\"tr\", {\"id\": \"54\"}), 3, None):\n",
    "#         bvps_list.append(data_row.get_text())"
   ]
  },
  {
   "cell_type": "code",
   "execution_count": 34,
   "metadata": {},
   "outputs": [],
   "source": [
    "code_list = ['acb', 'bid', 'ctg', 'eib', 'mbb', 'nvb', 'shb', 'stb', 'vcb']\n",
    "page_to_load = [1,2,3]"
   ]
  },
  {
   "cell_type": "code",
   "execution_count": 45,
   "metadata": {},
   "outputs": [
    {
     "name": "stdout",
     "output_type": "stream",
     "text": [
      "acb 1\n",
      "acb 2\n",
      "acb 3\n",
      "bid 1\n",
      "bid 2\n",
      "bid 3\n",
      "ctg 1\n",
      "ctg 2\n",
      "ctg 3\n",
      "eib 1\n",
      "eib 2\n",
      "eib 3\n",
      "mbb 1\n",
      "mbb 2\n",
      "mbb 3\n",
      "nvb 1\n",
      "nvb 2\n",
      "nvb 3\n",
      "shb 1\n",
      "shb 2\n",
      "shb 3\n",
      "stb 1\n",
      "stb 2\n",
      "stb 3\n",
      "vcb 1\n",
      "vcb 2\n",
      "vcb 3\n"
     ]
    }
   ],
   "source": [
    "for code in code_list:\n",
    "    for page in page_to_load:\n",
    "        header_list1 = []\n",
    "        beta = []\n",
    "        row = []\n",
    "        print(code, page)\n",
    "        params_n = {\"rptType\":\"CSTC\",\n",
    "              \"scode\": code,\n",
    "              \"bizType\":\"3\",\n",
    "              \"rptUnit\":\"1000000\",\n",
    "              \"rptTermTypeID\":\"2\",\n",
    "              \"page\":page\n",
    "            }\n",
    "        try:\n",
    "            beta_data_loader('http://finance.vietstock.vn/Controls/Report/Data/GetReport.ashx', params_n)\n",
    "        except NameError:\n",
    "            print(NameError)\n",
    "\n",
    "        beta.insert(0, \"-\")\n",
    "\n",
    "        row.append(header_list1)\n",
    "        row.append(beta)\n",
    "        write_csv(code+'-'+ str(page), row)"
   ]
  },
  {
   "cell_type": "code",
   "execution_count": 28,
   "metadata": {},
   "outputs": [],
   "source": [
    "# url2 = \"http://www.cophieu68.vn/incomestatementq.php\"\n",
    "# headers2 = {\n",
    "# #     'Cache-Control': \"no-cache\",\n",
    "# #     \"Cookie\": \"PHPSESSID=aeujr1dpoo2keca858t4v42pj5; cp68screenwidth=1440; cp68screenheight=738; _ga=GA1.2.1788712993.1523434259; _gid=GA1.2.1856382969.1523810902; _gat=1\"\n",
    "#     'User-Agent': 'Mozilla/5.0 (Macintosh; Intel Mac OS X 10_13_4) AppleWebKit/537.36 (KHTML, like Gecko) Chrome/64.0.3282.167 Safari/537.36',\n",
    "#     'Cookie': 'PHPSESSID=aeujr1dpoo2keca858t4v42pj5; cp68screenwidth=1440; cp68screenheight=738; _ga=GA1.2.1788712993.1523434259; _gid=GA1.2.1856382969.1523810902; _gat=1'\n",
    "# }\n"
   ]
  },
  {
   "cell_type": "code",
   "execution_count": 29,
   "metadata": {},
   "outputs": [],
   "source": [
    "# def new_data_loader(params_haha, url, headers):\n",
    "#     response = requests.request(\"GET\", url, headers=headers , params=params_haha)\n",
    "#     soup_data = BeautifulSoup(response.content, \"html5lib\")\n",
    "\n",
    "#     for data in itertools.islice(soup_data.find(\"tr\", {\"style\": \"font-weight:bold\"}).find_all(\"td\"), 2 , None):\n",
    "#         net_sales.append(data.get_text())\n",
    "\n",
    "#     for data in itertools.islice(soup_data.find_all(\"tr\")[-1].find_all(\"td\"), 3 , None):\n",
    "#         pb.append(data.get_text())\n",
    "\n",
    "#     for data in itertools.islice(soup_data.find_all(\"tr\")[-3].find_all(\"td\"), 3 , None):\n",
    "#         pe.append(data.get_text())\n",
    "    \n",
    "#     for data in itertools.islice(soup_data.find(\"tr\", {\"class\": \"tr_header\"}).find_all(\"td\"), 2 , None):\n",
    "#         headers_time_2.append(data.get_text())"
   ]
  },
  {
   "cell_type": "code",
   "execution_count": 84,
   "metadata": {},
   "outputs": [],
   "source": [
    "# net_sales = []\n",
    "# pe = []\n",
    "# pb = []\n",
    "# headers_time_2 = []\n",
    "# for data in soup_data2.find(\"tr\", {\"style\": \"font-weight:bold\"}).find_all(\"td\"):\n",
    "#     net_sales.append(data.get_text())\n",
    "\n",
    "# for data in soup_data2.find_all(\"tr\")[-1].find_all(\"td\"):\n",
    "#     pb.append(data.get_text())\n",
    "    \n",
    "# for data in soup_data2.find_all(\"tr\")[-3].find_all(\"td\"):\n",
    "#     pe.append(data.get_text())\n",
    "    \n",
    "# for data in soup_data2.find(\"tr\", {\"class\": \"tr_header\"}).find_all(\"td\"):\n",
    "#     headers_time_2.append(data.get_text())\n",
    "# print(headers_time_2)"
   ]
  },
  {
   "cell_type": "code",
   "execution_count": 30,
   "metadata": {},
   "outputs": [],
   "source": [
    "# years = [2017, 2016, 2015]"
   ]
  },
  {
   "cell_type": "code",
   "execution_count": 31,
   "metadata": {},
   "outputs": [],
   "source": [
    "# for code in code_list:\n",
    "#     new_row = []\n",
    "#     net_sales = []\n",
    "#     pe = []\n",
    "#     pb = []\n",
    "#     headers_time_2 = []\n",
    "#     for year in years:\n",
    "#         params_n2 = {\n",
    "#             \"id\": code,\n",
    "#            \"lang\": 'en',\n",
    "#            \"year\": year,\n",
    "#             'view':'ist',\n",
    "#         }\n",
    "#         new_data_loader(params_n2, url2, headers2)\n",
    "#         print(code, year)\n",
    "\n",
    "#     headers_time_2.insert(0, 'Quarter')\n",
    "#     net_sales.insert(0, \"net sales\")\n",
    "#     pe.insert(0, \"P/E\")\n",
    "#     pb.insert(0, \"P/B\")\n",
    "    \n",
    "#     new_row.append(headers_time_2)\n",
    "#     new_row.append(net_sales)\n",
    "#     new_row.append(pe)\n",
    "#     new_row.append(pb)\n",
    "    \n",
    "# #     print(\"net_sales\",code, net_sales)\n",
    "# #     print(new_row)\n",
    "#     write_csv(code, new_row, './new_data/')"
   ]
  },
  {
   "cell_type": "code",
   "execution_count": null,
   "metadata": {},
   "outputs": [],
   "source": []
  }
 ],
 "metadata": {
  "kernelspec": {
   "display_name": "Python 3",
   "language": "python",
   "name": "python3"
  },
  "language_info": {
   "codemirror_mode": {
    "name": "ipython",
    "version": 3
   },
   "file_extension": ".py",
   "mimetype": "text/x-python",
   "name": "python",
   "nbconvert_exporter": "python",
   "pygments_lexer": "ipython3",
   "version": "3.6.2"
  }
 },
 "nbformat": 4,
 "nbformat_minor": 2
}
