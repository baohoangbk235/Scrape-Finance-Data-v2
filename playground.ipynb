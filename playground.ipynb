{
 "cells": [
  {
   "cell_type": "code",
   "execution_count": 81,
   "metadata": {},
   "outputs": [],
   "source": [
    "import pandas as pd\n",
    "import json\n",
    "import glob\n",
    "import re"
   ]
  },
  {
   "cell_type": "code",
   "execution_count": 82,
   "metadata": {},
   "outputs": [],
   "source": [
    "def simplify_text(s):\n",
    "    s1 = s.split(\".\")[-1]\n",
    "    s1 = re.sub(r\"\\W+\", \" \", s1)\n",
    "    s1 = \" \".join(s1.split())\n",
    "    s1 = s1.lower()\n",
    "    return s1"
   ]
  },
  {
   "cell_type": "code",
   "execution_count": 83,
   "metadata": {},
   "outputs": [],
   "source": [
    "# bs_all_accs = set()\n",
    "report_types_bs_is = {\"CDKT\":{},\n",
    "                        \"KQKD\":{}\n",
    "                     }\n",
    "report_types_cf = {\"LC\": set()\n",
    "                    }\n",
    "lookup_dict_all = {\"CDKT\":{},\n",
    "                        \"KQKD\":{}\n",
    "                     }"
   ]
  },
  {
   "cell_type": "code",
   "execution_count": 84,
   "metadata": {
    "scrolled": false
   },
   "outputs": [],
   "source": [
    "for report_type, report_all_accounts in report_types_bs_is.items():\n",
    "    lookup_dict = {}\n",
    "    \n",
    "    for file in glob.glob(f'functions/localData/financeInfo/*{report_type}_Annual*.json'):\n",
    "        with open(file, 'r') as jsonfile:\n",
    "            try:\n",
    "                j = json.load(jsonfile)\n",
    "                for report_fullname, report_content in j[1].items():\n",
    "                    for acc in report_content:\n",
    "                        acc_id = acc['ReportNormID']\n",
    "                        if acc_id not in lookup_dict.keys():\n",
    "                            lookup_dict[acc_id] = acc\n",
    "            except:\n",
    "                print(\"EXCEPTION IN LOOKUP DICT\")\n",
    "    \n",
    "    lookup_dict_all[report_type] = lookup_dict\n",
    "    \n",
    "    for acc_id, acc in lookup_dict.items():\n",
    "        acc_n = simplify_text(acc['NameEn'])\n",
    "#         acc_n = acc['NameEn']\n",
    "        parent_n = simplify_text(lookup_dict[acc['ParentReportNormID']]['NameEn'])\n",
    "#         parent_n = lookup_dict[acc['ParentReportNormID']]['NameEn']\n",
    "        acc_new_key = f'{acc_n};{parent_n}'\n",
    "\n",
    "        if acc_new_key not in report_all_accounts.keys():\n",
    "            report_all_accounts[acc_new_key] = [acc_id]\n",
    "        else:\n",
    "            if acc_id not in report_all_accounts[acc_new_key]:\n",
    "                report_all_accounts[acc_new_key].append(acc_id)\n",
    "                        \n",
    "#     report_all_accounts = dict(sorted(report_all_accounts.items()))\n",
    "    with open(f'functions/schema/{report_type}_all_accounts.json', 'w') as writefile:\n",
    "        json.dump(report_all_accounts, writefile, ensure_ascii=False, indent=4)"
   ]
  },
  {
   "cell_type": "code",
   "execution_count": 85,
   "metadata": {
    "scrolled": true
   },
   "outputs": [
    {
     "name": "stdout",
     "output_type": "stream",
     "text": [
      "{'ID': 67, 'ReportNormID': 2994, 'Name': 'NGUỒN VỐN', 'NameEn': \"OWNER'S EQUITY\", 'NameMobile': 'NGUỒN VỐN', 'NameMobileEn': \"OWNER'S EQUITY\", 'CssStyle': 'MaxB', 'Padding': 'Padding1', 'ParentReportNormID': 2994, 'ReportComponentName': 'Cân đối kế toán', 'ReportComponentNameEn': 'Balance Sheet', 'Unit': None, 'UnitEn': None, 'OrderType': None, 'OrderingComponent': None, 'RowNumber': None, 'ReportComponentTypeID': None, 'ChildTotal': 0, 'Levels': 0, 'Value1': None, 'Value2': None, 'Value3': None, 'Value4': None, 'Vl': None, 'IsShowData': True}\n",
      "{'ID': 100, 'ReportNormID': 3015, 'Name': 'I. Vốn chủ sở hữu', 'NameEn': \"I. Owner's equity\", 'NameMobile': 'I. Vốn chủ sở hữu', 'NameMobileEn': \"I. Owner's equity\", 'CssStyle': 'NormalB', 'Padding': 'Padding2', 'ParentReportNormID': 2998, 'ReportComponentName': 'Cân đối kế toán', 'ReportComponentNameEn': 'Balance Sheet', 'Unit': None, 'UnitEn': None, 'OrderType': None, 'OrderingComponent': None, 'RowNumber': None, 'ReportComponentTypeID': None, 'ChildTotal': 18, 'Levels': 2, 'Value1': 29509314.0, 'Value2': 26815385.0, 'Value3': 27723894.0, 'Value4': 26796730.0, 'Vl': None, 'IsShowData': True}\n",
      "{'ID': 75, 'ReportNormID': 3093, 'Name': 'NGUỒN VỐN', 'NameEn': \"OWNER'S EQUITY\", 'NameMobile': 'NGUỒN VỐN', 'NameMobileEn': \"OWNER'S EQUITY\", 'CssStyle': 'MaxB', 'Padding': 'Padding1', 'ParentReportNormID': 3093, 'ReportComponentName': 'Cân đối kế toán', 'ReportComponentNameEn': 'Balance Sheet', 'Unit': None, 'UnitEn': None, 'OrderType': None, 'OrderingComponent': None, 'RowNumber': None, 'ReportComponentTypeID': None, 'ChildTotal': 0, 'Levels': 0, 'Value1': 0.0, 'Value2': 0.0, 'Value3': 0.0, 'Value4': 0.0, 'Vl': None, 'IsShowData': True}\n",
      "{'ID': 112, 'ReportNormID': 3114, 'Name': 'I. Vốn chủ sở hữu', 'NameEn': \"I. Owner's equity\", 'NameMobile': 'I. Vốn chủ sở hữu', 'NameMobileEn': \"I. Owner's equity\", 'CssStyle': 'NormalB', 'Padding': 'Padding2', 'ParentReportNormID': 3097, 'ReportComponentName': 'Cân đối kế toán', 'ReportComponentNameEn': 'Balance Sheet', 'Unit': None, 'UnitEn': None, 'OrderType': None, 'OrderingComponent': None, 'RowNumber': None, 'ReportComponentTypeID': None, 'ChildTotal': 13, 'Levels': 2, 'Value1': 19902609.0, 'Value2': 15465001.0, 'Value3': 14467398.0, 'Value4': 13686536.0, 'Vl': None, 'IsShowData': True}\n",
      "{'ID': 136, 'ReportNormID': 4494, 'Name': 'I. Vốn chủ sở hữu', 'NameEn': \"I. Owner's equity\", 'NameMobile': 'I. Vốn chủ sở hữu', 'NameMobileEn': \"I. Owner's equity\", 'CssStyle': 'NormalB', 'Padding': 'Padding2', 'ParentReportNormID': 4478, 'ReportComponentName': 'Cân đối kế toán', 'ReportComponentNameEn': 'Balance Sheet', 'Unit': None, 'UnitEn': None, 'OrderType': None, 'OrderingComponent': None, 'RowNumber': None, 'ReportComponentTypeID': None, 'ChildTotal': 20, 'Levels': 2, 'Value1': 9401060.0, 'Value2': 9155665.0, 'Value3': 8616250.0, 'Value4': 7152567.0, 'Vl': None, 'IsShowData': True}\n",
      "497\n",
      "497\n",
      "337\n",
      "337\n",
      "5\n"
     ]
    }
   ],
   "source": [
    "ids = []\n",
    "keys = []\n",
    "max_len_v = 0\n",
    "for k, v in report_types_bs_is['CDKT'].items():\n",
    "    ids = ids + v\n",
    "    keys.append(k)\n",
    "    if len(v) > max_len_v:\n",
    "        max_len_v = len(v)\n",
    "    if len(v) == 5:\n",
    "        for i in v:\n",
    "            print(lookup_dict_all['CDKT'][i])\n",
    "\n",
    "print(len(ids))\n",
    "print(len(set(ids)))\n",
    "print(len(keys))\n",
    "print(len(set(keys)))\n",
    "print(max_len_v)"
   ]
  }
 ],
 "metadata": {
  "kernelspec": {
   "display_name": "Python 3",
   "language": "python",
   "name": "python3"
  },
  "language_info": {
   "codemirror_mode": {
    "name": "ipython",
    "version": 3
   },
   "file_extension": ".py",
   "mimetype": "text/x-python",
   "name": "python",
   "nbconvert_exporter": "python",
   "pygments_lexer": "ipython3",
   "version": "3.7.7"
  }
 },
 "nbformat": 4,
 "nbformat_minor": 4
}
